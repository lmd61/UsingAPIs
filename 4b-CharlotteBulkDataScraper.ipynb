{
 "cells": [
  {
   "cell_type": "markdown",
   "metadata": {},
   "source": [
    "## Charlotte Bulk Water Quality Data Scraper\n",
    "ArcGIS Rest Site: https://cltwmaps.ci.charlotte.nc.us/arcgis/rest/services/Public"
   ]
  },
  {
   "cell_type": "code",
   "execution_count": 1,
   "metadata": {},
   "outputs": [],
   "source": [
    "#imports\n",
    "import requests, json, os\n",
    "import pandas as pd"
   ]
  },
  {
   "cell_type": "markdown",
   "metadata": {},
   "source": [
    "### Functions"
   ]
  },
  {
   "cell_type": "code",
   "execution_count": 2,
   "metadata": {},
   "outputs": [],
   "source": [
    "def getServices(baseURL):\n",
    "    '''Returns a list of services at the root level'''\n",
    "    params = dict(f='json') #format = json\n",
    "    j = requests.get(baseURL,params).json()\n",
    "    return j['services']"
   ]
  },
  {
   "cell_type": "code",
   "execution_count": 3,
   "metadata": {},
   "outputs": [],
   "source": [
    "def getServiceInfo(baseURL,ID):\n",
    "    '''Returns the MapServer URL, its name, and the max records'''\n",
    "    params = dict(f='json') #format = json\n",
    "    j = requests.get(baseURL,params).json()\n",
    "    services = j['services']\n",
    "    service = services[ID]\n",
    "    serviceURL = baseURL[:-6] + service['name'] + \"/\" + service['type']\n",
    "    return (serviceURL,service['name'])"
   ]
  },
  {
   "cell_type": "code",
   "execution_count": 4,
   "metadata": {},
   "outputs": [],
   "source": [
    "def getLayers(serviceURL):\n",
    "    '''Returns a list of layers contained in the provided map service'''\n",
    "    j = requests.get(serviceURL+\"?f=pjson\").json()\n",
    "    layers = j['layers']\n",
    "    return layers "
   ]
  },
  {
   "cell_type": "code",
   "execution_count": 5,
   "metadata": {},
   "outputs": [],
   "source": [
    "def getTables(serviceURL):\n",
    "    '''Returns a list of layers contained in the provided map service'''\n",
    "    j = requests.get(serviceURL+\"?f=pjson\").json()\n",
    "    tables = j['tables']\n",
    "    return tables "
   ]
  },
  {
   "cell_type": "code",
   "execution_count": 6,
   "metadata": {},
   "outputs": [],
   "source": [
    "def getRecordCount(serviceURL, layerID):\n",
    "    '''Returns the number of records in the supplied layer'''\n",
    "    layerURL = \"{}/{}/query\".format(serviceURL,layerID)\n",
    "    params = dict(f='json',\n",
    "                  where='OBJECTID >= 0',\n",
    "                  returnCountOnly='true')\n",
    "    j = requests.get(layerURL,params).json()\n",
    "    return j['count']"
   ]
  },
  {
   "cell_type": "code",
   "execution_count": 7,
   "metadata": {},
   "outputs": [],
   "source": [
    "def getFieldList(serviceURL,layerID):\n",
    "    '''Returns a list of fields for the supplied layer'''\n",
    "    layerURL = \"{}/{}?f=json\".format(serviceURL,layerID)            \n",
    "    j = requests.get(layerURL).json()\n",
    "    return j['fields']"
   ]
  },
  {
   "cell_type": "code",
   "execution_count": 8,
   "metadata": {},
   "outputs": [],
   "source": [
    "def tableToCSV(serviceURL,table,outFolder,overwrite=False):\n",
    "    '''Saves the data in a table to a CSV file'''\n",
    "    \n",
    "    #Get table properties\n",
    "    tableID = table['id']\n",
    "    tableName = table['name']\n",
    "    \n",
    "    #Set the output name, see if it already exists\n",
    "    outFN = \"{}/{}.csv\".format(outFolder,tableName)\n",
    "    if (os.path.exists(outFN)):\n",
    "        print(\"   {} already processed\".format(tableName),end=\", \")\n",
    "        if overwrite == False:\n",
    "            print(\"Skipping...\")\n",
    "            return\n",
    "        else:\n",
    "            print(\"Overwriting...\")\n",
    "    \n",
    "    #Get the table query URL\n",
    "    qURL = \"{}/{}/query\".format(serviceURL,tableID)\n",
    "\n",
    "    #Get the number of records\n",
    "    recordCount = getRecordCount(serviceURL,tableID)\n",
    "    if recordCount == 0:\n",
    "        print(\"\\n  No records for {}\".format(tableName))\n",
    "        return\n",
    "    print(\"\\n  Fetching {} records for {}\".format(recordCount,tableName),end=\":\")\n",
    "\n",
    "    #Query data 1000 records at a time and add them to a dataframe\n",
    "    offset = 0\n",
    "    while offset < recordCount:\n",
    "        #Status\n",
    "        print(min(recordCount,offset+1000),end=\" \")\n",
    "        #Get the next 1000 records\n",
    "        qParams = dict(f='pjson',where='OBJECTID>0',resultOffset=offset,outFields='*')\n",
    "        j = requests.get(qURL,qParams).json()\n",
    "\n",
    "        #Get attributes of the selected table\n",
    "        fields = j['fields']\n",
    "        features = j['features']\n",
    "\n",
    "        #Create a dataframe from the first record (transposed)\n",
    "        if offset == 0: #It's the first record in the dataset\n",
    "            df = pd.DataFrame(features[0]).T\n",
    "            startIdx = 1  #We need to skip the first record now...\n",
    "        else:\n",
    "            startIdx = 0  #Start at the first record\n",
    "\n",
    "        #Add the remaining records (transposed)\n",
    "        for f in features[startIdx:]:\n",
    "            df = df.append(pd.DataFrame(f).T)\n",
    "\n",
    "        #Get next set \n",
    "        offset+=1000\n",
    "\n",
    "    #Convert index and date fields (if present)\n",
    "    for f in fields:\n",
    "        #Set the OID field as the index\n",
    "        if f['type'] == 'esriFieldTypeOID':\n",
    "            df.set_index(f['name'],inplace=True)\n",
    "        #Convert dates\n",
    "        if f['type'] == 'esriFieldTypeDate':\n",
    "            name = (f['name'])\n",
    "            df[name] = pd.to_datetime(df[name],unit='ms')\n",
    "\n",
    "    #Write to a file\n",
    "    outFN = \"{}/{}.csv\".format(outFolder,table['name'])\n",
    "    print(\"\\n  {} records saved to {}\".format(len(df),outFN))\n",
    "    df.to_csv(outFN)"
   ]
  },
  {
   "cell_type": "code",
   "execution_count": 9,
   "metadata": {},
   "outputs": [],
   "source": [
    "def layerToCSV(serviceName,layer,outFolder,overwrite=False):\n",
    "    '''Saves the data in the REST layer to a CSV (Point FCs only)'''\n",
    "    #Get table properties\n",
    "    layerID = layer['id']\n",
    "    layerName = layer['name']\n",
    "    \n",
    "    #Set the output name, see if it already exists\n",
    "    outFN = \"{}/{}.csv\".format(outFolder,layerName)\n",
    "    if (os.path.exists(outFN)):\n",
    "        print(\"   {} already processed\".format(layerName),end=\", \")\n",
    "        if overwrite == False:\n",
    "            print(\"Skipping...\")\n",
    "            return\n",
    "        else:\n",
    "            print(\"Overwriting...\")\n",
    "    \n",
    "    #Get the table query URL\n",
    "    qURL = \"{}/{}/query\".format(serviceURL,layerID)\n",
    "    \n",
    "    #Skip group layers that point to sub layers\n",
    "    if layer['subLayerIds'] != None:\n",
    "        print(\"\\n  {} is a group layer...\".format(layerName))\n",
    "        return \n",
    "\n",
    "    #Get the number of records (see if it's < 1000)\n",
    "    recordCount = getRecordCount(serviceURL,layerID)\n",
    "    if recordCount == 0:\n",
    "        print(\"\\n  No records for {}\".format(layerName))\n",
    "        return\n",
    "    print(\"\\n  Fetching {} records for {}\".format(recordCount,layerName),end=\":\")\n",
    "\n",
    "    #Loop through 1000 records at a time\n",
    "    offset = 0\n",
    "    while offset < recordCount:\n",
    "        #Get the next 1000 records\n",
    "        qParams = dict(f='pjson',where='OBJECTID>0',resultOffset=offset,outFields='*',outSR='4326',datumTransformation='1188')\n",
    "        print(min(recordCount,offset+1000),end=\" \")\n",
    "        \n",
    "        #Retrieve data as a JSON object\n",
    "        j = requests.get(qURL,qParams).json()\n",
    "\n",
    "        #Get attributes of the selected table\n",
    "        fields = j['fields']\n",
    "        features = j['features']\n",
    "\n",
    "        #Create a dataframe from the first record (transposed)\n",
    "        if offset == 0: #It's the first record in the dataset\n",
    "            feature = features[0]\n",
    "            df = pd.DataFrame.from_dict(feature['attributes'],orient='index').T\n",
    "            #Get and add the coordinates\n",
    "            if 'geometry' in feature.keys():\n",
    "                df['x']=feature['geometry']['x']\n",
    "                df['y']=feature['geometry']['y']\n",
    "            startIdx = 1\n",
    "        else:\n",
    "            startIdx = 0\n",
    "\n",
    "        #Add the remaining records (transposed)\n",
    "        for feature in features[startIdx:]:\n",
    "            df2 = pd.DataFrame.from_dict(feature['attributes'],orient='index').T\n",
    "            if 'geometry' in feature.keys():\n",
    "                df2['x']=feature['geometry']['x']\n",
    "                df2['y']=feature['geometry']['y']\n",
    "            df = df.append(df2)\n",
    "\n",
    "        #Get next set \n",
    "        offset+=1000\n",
    "\n",
    "    #Convert fields\n",
    "    for f in fields:\n",
    "        #Set the OID field as the index\n",
    "        if f['type'] == 'esriFieldTypeOID':\n",
    "            df.set_index(f['name'],inplace=True)\n",
    "        #Convert dates\n",
    "        if f['type'] == 'esriFieldTypeDate':\n",
    "            name = (f['name'])\n",
    "            df[name] = pd.to_datetime(df[name],unit='ms')\n",
    "\n",
    "    #Write to a file\n",
    "    outFN = \"{}/{}.csv\".format(outFolder,layer['name'])\n",
    "    print(\"\\n  {} records saved to {}\".format(len(df),outFN))\n",
    "    df.to_csv(outFN)    "
   ]
  },
  {
   "cell_type": "markdown",
   "metadata": {},
   "source": [
    "### Main\n",
    "The Charlotte REST server lists a number of Map Services with one or more layer"
   ]
  },
  {
   "cell_type": "code",
   "execution_count": 10,
   "metadata": {},
   "outputs": [
    {
     "name": "stdout",
     "output_type": "stream",
     "text": [
      "\n",
      "-------\n",
      "PROCESSING Public/CLTW_DrinkingWaterCHLORINE2\n"
     ]
    },
    {
     "ename": "FileNotFoundError",
     "evalue": "[WinError 3] The system cannot find the path specified: '../Data/Charlotte/CLTW_DrinkingWaterCHLORINE2'",
     "output_type": "error",
     "traceback": [
      "\u001b[1;31m---------------------------------------------------------------------------\u001b[0m",
      "\u001b[1;31mFileNotFoundError\u001b[0m                         Traceback (most recent call last)",
      "\u001b[1;32m<ipython-input-10-d8d6bc85ba1c>\u001b[0m in \u001b[0;36m<module>\u001b[1;34m()\u001b[0m\n\u001b[0;32m     10\u001b[0m     \u001b[1;31m#Create a folder to hold the results\u001b[0m\u001b[1;33m\u001b[0m\u001b[1;33m\u001b[0m\u001b[0m\n\u001b[0;32m     11\u001b[0m     \u001b[0moutFolder\u001b[0m \u001b[1;33m=\u001b[0m \u001b[1;34m'../Data/Charlotte/'\u001b[0m\u001b[1;33m+\u001b[0m\u001b[0mserviceName\u001b[0m\u001b[1;33m[\u001b[0m\u001b[1;36m7\u001b[0m\u001b[1;33m:\u001b[0m\u001b[1;33m]\u001b[0m\u001b[1;33m\u001b[0m\u001b[0m\n\u001b[1;32m---> 12\u001b[1;33m     \u001b[1;32mif\u001b[0m \u001b[1;32mnot\u001b[0m \u001b[0mos\u001b[0m\u001b[1;33m.\u001b[0m\u001b[0mpath\u001b[0m\u001b[1;33m.\u001b[0m\u001b[0mexists\u001b[0m\u001b[1;33m(\u001b[0m\u001b[0moutFolder\u001b[0m\u001b[1;33m)\u001b[0m\u001b[1;33m:\u001b[0m \u001b[0mos\u001b[0m\u001b[1;33m.\u001b[0m\u001b[0mmkdir\u001b[0m\u001b[1;33m(\u001b[0m\u001b[0moutFolder\u001b[0m\u001b[1;33m)\u001b[0m\u001b[1;33m\u001b[0m\u001b[0m\n\u001b[0m\u001b[0;32m     13\u001b[0m \u001b[1;33m\u001b[0m\u001b[0m\n\u001b[0;32m     14\u001b[0m     \u001b[1;31m#Get a list of tables and layers\u001b[0m\u001b[1;33m\u001b[0m\u001b[1;33m\u001b[0m\u001b[0m\n",
      "\u001b[1;31mFileNotFoundError\u001b[0m: [WinError 3] The system cannot find the path specified: '../Data/Charlotte/CLTW_DrinkingWaterCHLORINE2'"
     ]
    }
   ],
   "source": [
    "#Scrape all data (Tables and Layers)\n",
    "baseURL = 'https://cltwmaps.ci.charlotte.nc.us/arcgis/rest/services/Public'\n",
    "\n",
    "for serviceIndex in (1,2,3,4,5,6,7,8,9,13):\n",
    "\n",
    "    #Get the map service and its name\n",
    "    serviceURL,serviceName = getServiceInfo(baseURL,serviceIndex)\n",
    "    print(\"\\n-------\\nPROCESSING {}\".format(serviceName))\n",
    "    \n",
    "    #Create a folder to hold the results\n",
    "    outFolder = '../Data/Charlotte/'+serviceName[7:]\n",
    "    if not os.path.exists(outFolder): os.mkdir(outFolder)\n",
    "\n",
    "    #Get a list of tables and layers\n",
    "    tables = getTables(serviceURL)\n",
    "    layers = getLayers(serviceURL)\n",
    "    \n",
    "    #Loop through tables hosted in the service and save to CSV\n",
    "    for i, table in enumerate(tables):\n",
    "        tableToCSV(serviceURL,table,outFolder)\n",
    "        \n",
    "    #Loop through the layers hosted in the service and save to CSV\n",
    "    for i, layer in enumerate(layers):\n",
    "        layerToCSV(serviceURL,layer,outFolder,overwrite=True)\n",
    "    \n",
    "print(\"Finished!\")"
   ]
  },
  {
   "cell_type": "code",
   "execution_count": null,
   "metadata": {},
   "outputs": [],
   "source": []
  },
  {
   "cell_type": "code",
   "execution_count": null,
   "metadata": {},
   "outputs": [],
   "source": []
  }
 ],
 "metadata": {
  "kernelspec": {
   "display_name": "Python 3",
   "language": "python",
   "name": "python3"
  },
  "language_info": {
   "codemirror_mode": {
    "name": "ipython",
    "version": 3
   },
   "file_extension": ".py",
   "mimetype": "text/x-python",
   "name": "python",
   "nbconvert_exporter": "python",
   "pygments_lexer": "ipython3",
   "version": "3.6.5"
  }
 },
 "nbformat": 4,
 "nbformat_minor": 2
}
